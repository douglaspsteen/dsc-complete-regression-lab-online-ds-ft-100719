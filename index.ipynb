{
 "cells": [
  {
   "cell_type": "markdown",
   "metadata": {},
   "source": [
    "# Complete Regression - Lab\n",
    "\n",
    "## Introduction\n",
    "By now, you have created all the necessary functions to calculate the slope, intercept, best-fit line, prediction and visualizations. In this lab you will put them all together to run a regression experiment and calculate the model loss. \n",
    "\n",
    "## Objectives\n",
    "\n",
    "You will be able to:\n",
    "\n",
    "* Run a complete regression analysis using python\n",
    "\n",
    "## The formulas\n",
    "\n",
    "**Slope**: \n",
    "$\\hat m = \\dfrac{\\overline{x}*\\overline{y}-\\overline{xy}}{(\\overline{x})^2-\\overline{x^2}}$\n",
    "\n",
    "\n",
    "**Intercept**: $ \\hat c = \\bar{y} - \\hat m\\bar{x}$\n",
    "\n",
    "**Prediction**: $\\hat{y} = \\hat mx + \\hat c$\n",
    "\n",
    "**R-Squared**: \n",
    "$ R^2 = 1- \\dfrac{SS_{RES}}{SS_{TOT}} = 1 - \\dfrac{\\sum_i(y_i - \\hat y_i)^2}{\\sum_i(y_i - \\overline y_i)^2} $\n",
    "\n",
    "\n",
    "Use the python functions created earlier to implement these formulas to run a regression analysis using x and y as input variables. "
   ]
  },
  {
   "cell_type": "code",
   "execution_count": 197,
   "metadata": {},
   "outputs": [],
   "source": [
    "# Combine all the functions created so far to run a complete regression experiment. \n",
    "# Produce an output similar to the one shown below. \n",
    "import numpy as np\n",
    "import pandas as pd\n",
    "import matplotlib.pyplot as plt\n",
    "%matplotlib inline\n",
    "import seaborn as sns\n",
    "sns.set_style(\"whitegrid\")\n",
    "\n",
    "X = np.array([1,2,3,4,5,6,7,8,9,10], dtype=np.float64)\n",
    "Y = np.array([7,7,8,9,9,10,10,11,11,12], dtype=np.float64)\n"
   ]
  },
  {
   "cell_type": "code",
   "execution_count": 198,
   "metadata": {},
   "outputs": [],
   "source": [
    "# Here are the functions already created in previous lab\n",
    "\n",
    "\n",
    "def calc_slope(xs, ys):\n",
    "    sl = (np.mean(xs)*np.mean(ys) - np.mean(xs*ys))/(np.mean(xs)**2 - np.mean(xs**2))\n",
    "    return sl\n",
    "\n",
    "\n",
    "def best_fit(xs,ys):\n",
    "    c_hat = round(np.mean(ys) - (calc_slope(xs, ys)*np.mean(xs)),2)\n",
    "    m_hat = round(calc_slope(xs, ys),2)\n",
    "    return (m_hat, c_hat)\n",
    "\n",
    "\n",
    "def reg_line (m, c, xs):\n",
    "    reg_y = []\n",
    "    for i in range(len(xs)):\n",
    "        reg_y.append(m*xs[i] + c)\n",
    "    return reg_y\n",
    "\n",
    "\n",
    "def sq_err(y_real, y_pred):\n",
    "    res_arr = y_real - y_pred\n",
    "    sq_res_arr = list(map(lambda x: x**2, res_arr))\n",
    "    return round(sum(sq_res_arr), 2)\n",
    "\n",
    "\n",
    "def r_squared(y_real, y_predicted):\n",
    "    tss_errors = y_real - np.mean(y_real)\n",
    "    tss = sum(list(map(lambda x: x**2, tss_errors)))\n",
    "    return round(1 - (sq_err(y_real, y_predicted)/tss), 2)"
   ]
  },
  {
   "cell_type": "code",
   "execution_count": 199,
   "metadata": {},
   "outputs": [
    {
     "name": "stdout",
     "output_type": "stream",
     "text": [
      "0.5575757575757568\n"
     ]
    }
   ],
   "source": [
    "# Calculate slope of regression - should be 0.56\n",
    "m = calc_slope(X, Y)\n",
    "print(m)"
   ]
  },
  {
   "cell_type": "code",
   "execution_count": 200,
   "metadata": {},
   "outputs": [
    {
     "data": {
      "text/plain": [
       "6.33"
      ]
     },
     "execution_count": 200,
     "metadata": {},
     "output_type": "execute_result"
    }
   ],
   "source": [
    "# Calculate best fit regression line (slope and intercept - should be 0.56 and 6.33)\n",
    "m, c = best_fit(X, Y)\n",
    "m\n",
    "c"
   ]
  },
  {
   "cell_type": "code",
   "execution_count": 201,
   "metadata": {},
   "outputs": [
    {
     "data": {
      "text/plain": [
       "[6.890000000000001,\n",
       " 7.45,\n",
       " 8.01,\n",
       " 8.57,\n",
       " 9.13,\n",
       " 9.690000000000001,\n",
       " 10.25,\n",
       " 10.81,\n",
       " 11.370000000000001,\n",
       " 11.93]"
      ]
     },
     "execution_count": 201,
     "metadata": {},
     "output_type": "execute_result"
    }
   ],
   "source": [
    "# Calculate y_pred values for regression line\n",
    "y_pred = reg_line(m, c, X)\n",
    "y_pred\n"
   ]
  },
  {
   "cell_type": "code",
   "execution_count": 202,
   "metadata": {},
   "outputs": [
    {
     "data": {
      "text/plain": [
       "0.97"
      ]
     },
     "execution_count": 202,
     "metadata": {},
     "output_type": "execute_result"
    }
   ],
   "source": [
    "# Calculate R^2 for regression line (should be 0.97)\n",
    "r2 = r_squared(Y, y_pred)\n",
    "r2"
   ]
  },
  {
   "cell_type": "code",
   "execution_count": 203,
   "metadata": {},
   "outputs": [],
   "source": [
    "# Function to calculate basic regression values (m, c, R^2, model equation) from two arrays\n",
    "def reg_diag(x, y):\n",
    "    sl, y_int = best_fit(x, y)\n",
    "    y_pr = reg_line(sl, y_int, x)\n",
    "    r_2 = r_squared(y, y_pr)\n",
    "    to_print =(f'Basic Regression Diagnostics\\n'\n",
    "            f'----------------------------\\n'\n",
    "            f'Slope: {sl}\\n'\n",
    "            f'Y-Intercept: {y_int}\\n'\n",
    "            f'R-Squared: {r_2}\\n'\n",
    "            f'----------------------------\\n'\n",
    "            f'Model: Y = {sl} * X + {y_int}')\n",
    "    return print(to_print)"
   ]
  },
  {
   "cell_type": "code",
   "execution_count": 204,
   "metadata": {},
   "outputs": [
    {
     "name": "stdout",
     "output_type": "stream",
     "text": [
      "Basic Regression Diagnostics\n",
      "----------------------------\n",
      "Slope: 0.56\n",
      "Y-Intercept: 6.33\n",
      "R-Squared: 0.97\n",
      "----------------------------\n",
      "Model: Y = 0.56 * X + 6.33\n"
     ]
    }
   ],
   "source": [
    "reg_diag(X, Y) #Got it!"
   ]
  },
  {
   "cell_type": "code",
   "execution_count": 205,
   "metadata": {},
   "outputs": [
    {
     "data": {
      "text/plain": [
       "<matplotlib.axes._subplots.AxesSubplot at 0x1b64ae37c18>"
      ]
     },
     "execution_count": 205,
     "metadata": {},
     "output_type": "execute_result"
    },
    {
     "data": {
      "image/png": "[encoded data removed]",
      "text/plain": [
       "<Figure size 432x288 with 1 Axes>"
      ]
     },
     "metadata": {},
     "output_type": "display_data"
    }
   ],
   "source": [
    "# Plot of data and regression line\n",
    "\n",
    "sns.scatterplot(x=X, y=Y)\n",
    "sns.lineplot(x=X, y=y_pred, color='red')\n"
   ]
  },
  {
   "cell_type": "code",
   "execution_count": 206,
   "metadata": {
    "scrolled": true
   },
   "outputs": [],
   "source": [
    "# Basic Regression Diagnostics\n",
    "# ----------------------------\n",
    "# Slope: 0.56\n",
    "# Y-Intercept: 6.33\n",
    "# R-Squared: 0.97\n",
    "# ----------------------------\n",
    "# Model: Y = 0.56 * X + 6.33"
   ]
  },
  {
   "cell_type": "markdown",
   "metadata": {},
   "source": [
    "## Make Predictions\n",
    "\n",
    "Predict and plot the value of y using regression line above for a new value of $x = 4.5$."
   ]
  },
  {
   "cell_type": "code",
   "execution_count": 207,
   "metadata": {},
   "outputs": [
    {
     "name": "stdout",
     "output_type": "stream",
     "text": [
      "8.850000000000001\n"
     ]
    },
    {
     "data": {
      "image/png": "[encoded data removed]",
      "text/plain": [
       "<Figure size 576x360 with 1 Axes>"
      ]
     },
     "metadata": {},
     "output_type": "display_data"
    }
   ],
   "source": [
    "# Make prediction for x = 4.5 and visualize on the scatter plot\n",
    "\n",
    "y_4_5 = m*4.5 + c\n",
    "print(y_4_5)\n",
    "\n",
    "plt.figure(figsize=(8,5))\n",
    "plt.scatter(x=X, y=Y, label='Data')\n",
    "plt.plot(X, y_pred, color='red', label='Regression')\n",
    "plt.scatter(4.5, y_4_5, color='green', label='Prediction')\n",
    "plt.legend()\n",
    "plt.show()\n",
    "\n"
   ]
  },
  {
   "cell_type": "markdown",
   "metadata": {},
   "source": [
    "## Level up - Optional \n",
    "Load the \"`heightweight.csv`\" dataset. Use the height as an independent and weight as a dependent variable and draw a regression line to data using your code above. Calculate your R-Squared value for the model and try to predict new values of y. \n",
    "\n",
    "## Summary\n",
    "\n",
    "In this lab, we ran a complete simple regression analysis experiment using functions created so far. Next up, you'll learn how you can use python's built-in modules to perform similar analyses with a much higher level of sophistication. "
   ]
  },
  {
   "cell_type": "markdown",
   "metadata": {},
   "source": [
    "## Level Up Below"
   ]
  },
  {
   "cell_type": "code",
   "execution_count": 208,
   "metadata": {},
   "outputs": [],
   "source": [
    "df = pd.read_csv('heightWeight.csv')"
   ]
  },
  {
   "cell_type": "code",
   "execution_count": 209,
   "metadata": {},
   "outputs": [
    {
     "data": {
      "text/html": [
       "<div>\n",
       "<style scoped>\n",
       "    .dataframe tbody tr th:only-of-type {\n",
       "        vertical-align: middle;\n",
       "    }\n",
       "\n",
       "    .dataframe tbody tr th {\n",
       "        vertical-align: top;\n",
       "    }\n",
       "\n",
       "    .dataframe thead th {\n",
       "        text-align: right;\n",
       "    }\n",
       "</style>\n",
       "<table border=\"1\" class=\"dataframe\">\n",
       "  <thead>\n",
       "    <tr style=\"text-align: right;\">\n",
       "      <th></th>\n",
       "      <th>height</th>\n",
       "      <th>weight</th>\n",
       "    </tr>\n",
       "  </thead>\n",
       "  <tbody>\n",
       "    <tr>\n",
       "      <th>0</th>\n",
       "      <td>68</td>\n",
       "      <td>165</td>\n",
       "    </tr>\n",
       "    <tr>\n",
       "      <th>1</th>\n",
       "      <td>71</td>\n",
       "      <td>201</td>\n",
       "    </tr>\n",
       "    <tr>\n",
       "      <th>2</th>\n",
       "      <td>61</td>\n",
       "      <td>140</td>\n",
       "    </tr>\n",
       "    <tr>\n",
       "      <th>3</th>\n",
       "      <td>69</td>\n",
       "      <td>170</td>\n",
       "    </tr>\n",
       "    <tr>\n",
       "      <th>4</th>\n",
       "      <td>71</td>\n",
       "      <td>192</td>\n",
       "    </tr>\n",
       "  </tbody>\n",
       "</table>\n",
       "</div>"
      ],
      "text/plain": [
       "   height  weight\n",
       "0      68     165\n",
       "1      71     201\n",
       "2      61     140\n",
       "3      69     170\n",
       "4      71     192"
      ]
     },
     "execution_count": 209,
     "metadata": {},
     "output_type": "execute_result"
    }
   ],
   "source": [
    "df.head()"
   ]
  },
  {
   "cell_type": "code",
   "execution_count": 210,
   "metadata": {},
   "outputs": [],
   "source": [
    "# Calculate Basic Regression Diagnostics\n",
    "\n"
   ]
  },
  {
   "cell_type": "code",
   "execution_count": 211,
   "metadata": {},
   "outputs": [
    {
     "name": "stdout",
     "output_type": "stream",
     "text": [
      "Basic Regression Diagnostics\n",
      "----------------------------\n",
      "Slope: 5.54\n",
      "Y-Intercept: -204.48\n",
      "R-Squared: 0.96\n",
      "----------------------------\n",
      "Model: Y = 5.54 * X + -204.48\n"
     ]
    }
   ],
   "source": [
    "reg_diag(df.height, df.weight)"
   ]
  },
  {
   "cell_type": "code",
   "execution_count": 212,
   "metadata": {},
   "outputs": [],
   "source": [
    "regline_y = reg_line(5.54,-204.48,df.height)"
   ]
  },
  {
   "cell_type": "code",
   "execution_count": 219,
   "metadata": {},
   "outputs": [
    {
     "data": {
      "text/plain": [
       "<matplotlib.legend.Legend at 0x1b64c5979e8>"
      ]
     },
     "execution_count": 219,
     "metadata": {},
     "output_type": "execute_result"
    },
    {
     "data": {
      "image/png": "[encoded data removed]",
      "text/plain": [
       "<Figure size 432x288 with 1 Axes>"
      ]
     },
     "metadata": {},
     "output_type": "display_data"
    }
   ],
   "source": [
    "plt.scatter(df.height, df.weight, label='data')\n",
    "plt.plot(df.height, regline_y,label='Y = 5.54X - 204.48', color='red')\n",
    "plt.title('Linear Regression of Height/Weight Data Set: R^2 = 0.96')\n",
    "plt.legend()"
   ]
  },
  {
   "cell_type": "code",
   "execution_count": null,
   "metadata": {},
   "outputs": [],
   "source": []
  }
 ],
 "metadata": {
  "kernelspec": {
   "display_name": "Python 3",
   "language": "python",
   "name": "python3"
  },
  "language_info": {
   "codemirror_mode": {
    "name": "ipython",
    "version": 3
   },
   "file_extension": ".py",
   "mimetype": "text/x-python",
   "name": "python",
   "nbconvert_exporter": "python",
   "pygments_lexer": "ipython3",
   "version": "3.6.6"
  }
 },
 "nbformat": 4,
 "nbformat_minor": 2
}
